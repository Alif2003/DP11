{
 "cells": [
  {
   "cell_type": "code",
   "execution_count": 1,
   "id": "d292246d",
   "metadata": {},
   "outputs": [
    {
     "name": "stdout",
     "output_type": "stream",
     "text": [
      "Welcome in Python Language\n"
     ]
    }
   ],
   "source": [
    "def helloPython():\n",
    "    print(\"Welcome in Python Language\")\n",
    "    \n",
    "helloPython()"
   ]
  },
  {
   "cell_type": "code",
   "execution_count": 4,
   "id": "656bb080",
   "metadata": {},
   "outputs": [
    {
     "name": "stdout",
     "output_type": "stream",
     "text": [
      "Muhammad Alif Apriza\n"
     ]
    }
   ],
   "source": [
    "def fullName(firstname, lastname):\n",
    "    print(f\"{firstname} {lastname}\")\n",
    "    \n",
    "print(\"Muhammad\", \"Alif\", \"Apriza\") "
   ]
  },
  {
   "cell_type": "code",
   "execution_count": 6,
   "id": "fb36b4ed",
   "metadata": {},
   "outputs": [
    {
     "data": {
      "text/plain": [
       "600"
      ]
     },
     "execution_count": 6,
     "metadata": {},
     "output_type": "execute_result"
    }
   ],
   "source": [
    "def maxValue(val_1, val_2, val_3):\n",
    "    max_value = val_1\n",
    "    \n",
    "    if val_2 > max_value:\n",
    "        max_value = val_2\n",
    "        \n",
    "    if val_3 > max_value:\n",
    "        max_value = val_3\n",
    "        \n",
    "    return max_value\n",
    "\n",
    "maxValue(400, 600, 300)"
   ]
  },
  {
   "cell_type": "code",
   "execution_count": 7,
   "id": "21a65ffb",
   "metadata": {},
   "outputs": [
    {
     "data": {
      "text/plain": [
       "153.86"
      ]
     },
     "execution_count": 7,
     "metadata": {},
     "output_type": "execute_result"
    }
   ],
   "source": [
    "def countCircleArea(diameter, phi = 3.14):\n",
    "    r = diameter / 2\n",
    "    return phi * r * r\n",
    "\n",
    "countCircleArea(14)"
   ]
  },
  {
   "cell_type": "code",
   "execution_count": 8,
   "id": "0bb9086c",
   "metadata": {},
   "outputs": [
    {
     "name": "stdout",
     "output_type": "stream",
     "text": [
      "Suhu sekarang di Sukabumi : 30 Celcius \n"
     ]
    }
   ],
   "source": [
    "#Cobalah fungsi tersebut pada area kode disini\n",
    "    \n",
    "def info(suhu, daerah='Sukabumi', satuan = 'Celcius'):\n",
    "    print(f\"Suhu sekarang di {daerah} : {suhu} {satuan} \")\n",
    "\n",
    "info(30)"
   ]
  },
  {
   "cell_type": "code",
   "execution_count": 9,
   "id": "01e2616f",
   "metadata": {},
   "outputs": [
    {
     "name": "stdout",
     "output_type": "stream",
     "text": [
      "Netral\n",
      "Positif\n",
      "Negatif\n"
     ]
    }
   ],
   "source": [
    "def isNegatif(val):\n",
    "    if val == 0:\n",
    "        print(\"Netral\")\n",
    "    elif val > 0:\n",
    "        print(\"Positif\")\n",
    "    else:\n",
    "        print(\"Negatif\")\n",
    "        \n",
    "        \n",
    "isNegatif(0)\n",
    "isNegatif(1)\n",
    "isNegatif(-1)"
   ]
  },
  {
   "cell_type": "code",
   "execution_count": 10,
   "id": "7981d5ce",
   "metadata": {},
   "outputs": [
    {
     "data": {
      "text/plain": [
       "1500"
      ]
     },
     "execution_count": 10,
     "metadata": {},
     "output_type": "execute_result"
    }
   ],
   "source": [
    "#Soal 1\n",
    "\n",
    "list_val = [100, 200, 300, 400, 500]\n",
    "\n",
    "def total(list_val):\n",
    "    total = 0\n",
    "    \n",
    "    for val in list_val:\n",
    "        total += val\n",
    "        \n",
    "    return total\n",
    "\n",
    "total(list_val)"
   ]
  },
  {
   "cell_type": "code",
   "execution_count": 14,
   "id": "5ce2e11b",
   "metadata": {},
   "outputs": [
    {
     "data": {
      "text/plain": [
       "1000"
      ]
     },
     "execution_count": 14,
     "metadata": {},
     "output_type": "execute_result"
    }
   ],
   "source": [
    "#Soal 2\n",
    "\n",
    "values = [100, 200, 1000, 300, 400, 500]\n",
    "\n",
    "def maxValue(list_val):\n",
    "    max_value = 0\n",
    "    \n",
    "    for val in list_val:\n",
    "        if val > max_value:\n",
    "            max_value = val\n",
    "            \n",
    "    return max_value\n",
    "\n",
    "maxValue(values)"
   ]
  },
  {
   "cell_type": "code",
   "execution_count": 15,
   "id": "9312b459",
   "metadata": {},
   "outputs": [
    {
     "data": {
      "text/plain": [
       "3600"
      ]
     },
     "execution_count": 15,
     "metadata": {},
     "output_type": "execute_result"
    }
   ],
   "source": [
    "#Soal 3\n",
    "\n",
    "values_a = [100, 200, 300, 400, 500]\n",
    "values_b = [100, 200, 300, 400, 500, 600]\n",
    "\n",
    "def jumlahDuaList(list_a, list_b):\n",
    "    total = 0\n",
    "    \n",
    "    for val in list_a:\n",
    "        total += val\n",
    "        \n",
    "    for val in list_b:\n",
    "        total += val\n",
    "        \n",
    "    return total\n",
    "    \n",
    "\n",
    "jumlahDuaList(values_a, values_b)"
   ]
  }
 ],
 "metadata": {
  "kernelspec": {
   "display_name": "Python 3 (ipykernel)",
   "language": "python",
   "name": "python3"
  },
  "language_info": {
   "codemirror_mode": {
    "name": "ipython",
    "version": 3
   },
   "file_extension": ".py",
   "mimetype": "text/x-python",
   "name": "python",
   "nbconvert_exporter": "python",
   "pygments_lexer": "ipython3",
   "version": "3.9.12"
  }
 },
 "nbformat": 4,
 "nbformat_minor": 5
}
